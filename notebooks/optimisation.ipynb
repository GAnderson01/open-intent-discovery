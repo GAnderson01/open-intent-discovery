{
 "cells": [
  {
   "cell_type": "raw",
   "metadata": {
    "tags": []
   },
   "source": [
    "!./environment_setup.sh"
   ]
  },
  {
   "cell_type": "raw",
   "metadata": {
    "jupyter": {
     "outputs_hidden": true
    },
    "tags": []
   },
   "source": [
    "!pip install -U accelerate ipywidgets nltk pydantic sentencepiece sentence-transformers spacy tensorflow tensorflow-hub tqdm transformers==4.36.2\n",
    "!python -m spacy download en_core_web_sm\n",
    "!pip install scikit-learn --upgrade"
   ]
  },
  {
   "cell_type": "code",
   "execution_count": null,
   "metadata": {
    "tags": []
   },
   "outputs": [],
   "source": [
    "import itertools\n",
    "import json\n",
    "import os\n",
    "import sys\n",
    "import time\n",
    "\n",
    "import pandas as pd\n",
    "import tensorflow_hub as hub\n",
    "\n",
    "\n",
    "sys.path.append('../src/')\n",
    "from semantic_representation.semantic_representation import supported_embedding_models\n",
    "from clustering.clustering import supported_clustering_algorithms\n",
    "from clustering.clustering_evaluation import supported_clustering_metrics\n",
    "from candidate_extraction.candidate_extraction import supported_extraction_methods\n",
    "from intent_label_generation.intent_label_generation import supported_label_generation_methods\n",
    "from utils.io import generate_config_str, save_dataframe, save_json\n",
    "from supported_config import params as default_params"
   ]
  },
  {
   "cell_type": "code",
   "execution_count": null,
   "metadata": {
    "tags": []
   },
   "outputs": [],
   "source": [
    "gpu_fit = True"
   ]
  },
  {
   "cell_type": "markdown",
   "metadata": {},
   "source": [
    "## Config"
   ]
  },
  {
   "cell_type": "code",
   "execution_count": null,
   "metadata": {
    "tags": []
   },
   "outputs": [],
   "source": [
    "mode = 'evaluate'\n",
    "\n",
    "# Data\n",
    "dataset = ['stack_overflow']\n",
    "data_dir = os.path.join(\"..\", \"data\", \"raw\")\n",
    "results_dir = os.path.join(\"..\", \"results\")\n",
    "\n",
    "all_choices = [dataset, [\"bert-base-uncased\", \"all-mpnet-base-v2\", \"use\"], [\"dbscan\"], [\"silhouette\"], [\"liu\", \"prompting\"], supported_label_generation_methods]\n",
    "combinations = list(itertools.product(*all_choices))\n",
    "\n",
    "#indexes = [4,5,6,7,12,13,14,15]\n",
    "\n",
    "\n",
    "# With DA\n",
    "#indexes = [8,9,10,11,16,17,18,19,20,21,22,23,28,29,30,31]\n",
    "# Remove DA\n",
    "#indexes.extend([4,5,6,7])\n",
    "#for index in sorted(indexes, reverse=True):\n",
    "#    del combinations[index]"
   ]
  },
  {
   "cell_type": "code",
   "execution_count": null,
   "metadata": {
    "tags": []
   },
   "outputs": [],
   "source": [
    "for i, c in enumerate(combinations):\n",
    "    print(i, c)"
   ]
  },
  {
   "cell_type": "code",
   "execution_count": null,
   "metadata": {
    "tags": []
   },
   "outputs": [],
   "source": [
    "if mode == 'generate':\n",
    "    from semantic_representation.semantic_representation import SemanticRepresentation\n",
    "    from candidate_extraction.candidate_extraction import Extractor\n",
    "    from clustering.clustering import ClusteringModel\n",
    "    from clustering.clustering_evaluation import ClusteringEvaluation\n",
    "    from intent_label_generation.intent_label_generation import IntentLabelGenerator\n",
    "    start_time = time.time()\n",
    "    for i, choices in enumerate(combinations):\n",
    "        config = {'dataset': choices[0],\n",
    "              'embedding_model_name': choices[1],\n",
    "              'clustering_algorithm': choices[2],\n",
    "              'clustering_measure': choices[3],\n",
    "              'extraction_method': choices[4],\n",
    "              'generation_method': choices[5]}\n",
    "        config_str = generate_config_str(config)\n",
    "        print(f\"\\nConfiguration {i}: {generate_config_str(config)}\")\n",
    "        if os.path.exists(os.path.join(results_dir, config_str, \"generation_df.csv\")):\n",
    "            print(\"\\tResults already exist\")\n",
    "            continue\n",
    "        # Read in raw data\n",
    "        data_filename = f\"{config['dataset']}.csv\"\n",
    "        df = pd.read_csv(os.path.join(data_dir, data_filename))\n",
    "        # Semantic Representation\n",
    "        embedding_model = SemanticRepresentation(config)\n",
    "        embeddings = embedding_model.embed(df[\"text\"].tolist())\n",
    "        if config['clustering_algorithm'] not in [\"deep-aligned\", \"iter_dbscan\"]:\n",
    "            # Clustering\n",
    "            cluster_model = ClusteringModel(config, gpu_fit=gpu_fit)\n",
    "            params = dict(default_params)\n",
    "            if config[\"clustering_algorithm\"] == \"kmeans\":\n",
    "                default_min_k = params[\"kmeans\"][\"range\"][0]\n",
    "                max_k = min(params[\"kmeans\"][\"range\"][-1]+1, len(df))\n",
    "                params[\"kmeans\"][\"range\"] = range(default_min_k, max_k)\n",
    "            cluster_model.run_clustering(embeddings, params[config[\"clustering_algorithm\"]])\n",
    "        cluster_evaluation = ClusteringEvaluation(config, gpu_eval=False)\n",
    "        cluster_model = cluster_evaluation.get_best_params(embeddings)\n",
    "        # Candidate Extraction\n",
    "        extractor = Extractor(config)\n",
    "        df = extractor.extract(df)\n",
    "        # Intent Label Generation\n",
    "        generator = IntentLabelGenerator(config)\n",
    "        if config[\"clustering_algorithm\"] == \"iter_dbscan\":\n",
    "            labels = cluster_model[\"cluster_id\"].tolist()\n",
    "        else:\n",
    "            labels = cluster_model.labels_\n",
    "        df = generator.generate(df, labels, True)\n",
    "\n",
    "    end_time = time.time()\n",
    "    total_time = end_time - start_time\n",
    "    print(\"Total time: %.2f. Average: %.2f\" % (total_time, total_time/len(combinations)))"
   ]
  },
  {
   "cell_type": "markdown",
   "metadata": {},
   "source": [
    "## Semantic Evaluation"
   ]
  },
  {
   "cell_type": "code",
   "execution_count": null,
   "metadata": {
    "tags": []
   },
   "outputs": [],
   "source": [
    "for choices in combinations:\n",
    "    config = {'dataset': choices[0],\n",
    "          'embedding_model_name': choices[1],\n",
    "          'clustering_algorithm': choices[2],\n",
    "          'clustering_measure': choices[3],\n",
    "          'extraction_method': choices[4],\n",
    "          'generation_method': choices[5]}\n",
    "    config_str = generate_config_str(config)\n",
    "    filepath = f\"../results/{config_str}/generation_df.csv\"\n",
    "    df = pd.read_csv(filepath, index_col=0)\n",
    "    df = df.rename({\"label\": \"intent\"}, axis=1)\n",
    "    df.to_csv(filepath)"
   ]
  },
  {
   "cell_type": "code",
   "execution_count": null,
   "metadata": {
    "tags": []
   },
   "outputs": [],
   "source": [
    "dataset = dataset[0]\n",
    "if mode == 'evaluate':\n",
    "    from intent_label_generation.readable_intents import readable_intents\n",
    "    from semantic_representation.semantic_representation import SemanticRepresentation\n",
    "    from evaluation.semantic_label_evaluation import SemanticLabelEvaluator\n",
    "    embedding_model = hub.load(\"https://tfhub.dev/google/universal-sentence-encoder/4\")\n",
    "    avg_cos_sims = []\n",
    "    avg_bart_scores = []\n",
    "    dataset_combos = [c for c in combinations if c[0] == dataset]\n",
    "    for i, choices in enumerate(dataset_combos):\n",
    "        #print(i)\n",
    "        config = {'dataset': choices[0],\n",
    "                'embedding_model_name': choices[1],\n",
    "                'clustering_algorithm': choices[2],\n",
    "                'clustering_measure': choices[3],\n",
    "                'extraction_method': choices[4],\n",
    "                'generation_method': choices[5]}\n",
    "        print(generate_config_str(config))\n",
    "        config_dir = os.path.join(results_dir, generate_config_str(config))\n",
    "        df = pd.read_csv(os.path.join(config_dir, 'generation_df.csv'))\n",
    "        print(df)\n",
    "        evaluator = SemanticLabelEvaluator(config)            \n",
    "        evaluator.evaluate(df, embedding_model)\n",
    "        \n",
    "        with open(os.path.join(config_dir, 'avg_sim.json'), 'r') as f:\n",
    "            avg_sim = json.load(f)\n",
    "            avg_cos_sims.append(avg_sim['avg'])\n",
    "        with open(os.path.join(config_dir, 'avg_bart.json'), 'r') as f:\n",
    "            avg_bart = json.load(f)\n",
    "            avg_bart_scores.append(avg_bart['avg'])\n",
    "    # Get best config using cosine similarity\n",
    "    best_cos_idx = avg_cos_sims.index(max(avg_cos_sims))\n",
    "    best_cos_combination = dataset_combos[best_cos_idx]\n",
    "    best_cos_config = {'dataset': best_cos_combination[0],\n",
    "                'embedding_model_name': best_cos_combination[1],\n",
    "                'clustering_algorithm': best_cos_combination[2],\n",
    "                'clustering_measure': best_cos_combination[3],\n",
    "                'extraction_method': best_cos_combination[4],\n",
    "                'generation_method': best_cos_combination[5]}\n",
    "    best_cos_config_dir = os.path.join(results_dir, generate_config_str(best_cos_config))\n",
    "    best_cos_labels = pd.read_csv(os.path.join(best_cos_config_dir, 'df_labels.csv'), index_col=False)\n",
    "\n",
    "    # Save best config and labels to results\n",
    "    best_dir = os.path.join(results_dir, dataset)\n",
    "    save_json(os.path.join(best_dir, 'best_cos_config.json'), best_cos_config)\n",
    "    save_dataframe(os.path.join(best_dir, 'best_cos_labels.csv'), best_cos_labels)\n",
    "    \n",
    "    # Get best config using bart scores\n",
    "    best_bart_idx = avg_bart_scores.index(max(avg_bart_scores))\n",
    "    best_bart_combination = dataset_combos[best_bart_idx]\n",
    "    best_bart_config = {'dataset': best_bart_combination[0],\n",
    "                'embedding_model_name': best_bart_combination[1],\n",
    "                'clustering_algorithm': best_bart_combination[2],\n",
    "                'clustering_measure': best_bart_combination[3],\n",
    "                'extraction_method': best_bart_combination[4],\n",
    "                'generation_method': best_bart_combination[5]}\n",
    "    best_bart_config_dir = os.path.join(results_dir, generate_config_str(best_bart_config))\n",
    "    best_bart_labels = pd.read_csv(os.path.join(best_bart_config_dir, 'df_labels.csv'), index_col=False)\n",
    "    #print(best_labels)\n",
    "\n",
    "    # Save best config and labels to results\n",
    "    save_json(os.path.join(best_dir, 'best_bart_config.json'), best_bart_config)\n",
    "    save_dataframe(os.path.join(best_dir, 'best_bart_labels.csv'), best_bart_labels)"
   ]
  },
  {
   "cell_type": "code",
   "execution_count": null,
   "metadata": {},
   "outputs": [],
   "source": []
  }
 ],
 "metadata": {
  "availableInstances": [
   {
    "_defaultOrder": 0,
    "_isFastLaunch": true,
    "category": "General purpose",
    "gpuNum": 0,
    "hideHardwareSpecs": false,
    "memoryGiB": 4,
    "name": "ml.t3.medium",
    "vcpuNum": 2
   },
   {
    "_defaultOrder": 1,
    "_isFastLaunch": false,
    "category": "General purpose",
    "gpuNum": 0,
    "hideHardwareSpecs": false,
    "memoryGiB": 8,
    "name": "ml.t3.large",
    "vcpuNum": 2
   },
   {
    "_defaultOrder": 2,
    "_isFastLaunch": false,
    "category": "General purpose",
    "gpuNum": 0,
    "hideHardwareSpecs": false,
    "memoryGiB": 16,
    "name": "ml.t3.xlarge",
    "vcpuNum": 4
   },
   {
    "_defaultOrder": 3,
    "_isFastLaunch": false,
    "category": "General purpose",
    "gpuNum": 0,
    "hideHardwareSpecs": false,
    "memoryGiB": 32,
    "name": "ml.t3.2xlarge",
    "vcpuNum": 8
   },
   {
    "_defaultOrder": 4,
    "_isFastLaunch": true,
    "category": "General purpose",
    "gpuNum": 0,
    "hideHardwareSpecs": false,
    "memoryGiB": 8,
    "name": "ml.m5.large",
    "vcpuNum": 2
   },
   {
    "_defaultOrder": 5,
    "_isFastLaunch": false,
    "category": "General purpose",
    "gpuNum": 0,
    "hideHardwareSpecs": false,
    "memoryGiB": 16,
    "name": "ml.m5.xlarge",
    "vcpuNum": 4
   },
   {
    "_defaultOrder": 6,
    "_isFastLaunch": false,
    "category": "General purpose",
    "gpuNum": 0,
    "hideHardwareSpecs": false,
    "memoryGiB": 32,
    "name": "ml.m5.2xlarge",
    "vcpuNum": 8
   },
   {
    "_defaultOrder": 7,
    "_isFastLaunch": false,
    "category": "General purpose",
    "gpuNum": 0,
    "hideHardwareSpecs": false,
    "memoryGiB": 64,
    "name": "ml.m5.4xlarge",
    "vcpuNum": 16
   },
   {
    "_defaultOrder": 8,
    "_isFastLaunch": false,
    "category": "General purpose",
    "gpuNum": 0,
    "hideHardwareSpecs": false,
    "memoryGiB": 128,
    "name": "ml.m5.8xlarge",
    "vcpuNum": 32
   },
   {
    "_defaultOrder": 9,
    "_isFastLaunch": false,
    "category": "General purpose",
    "gpuNum": 0,
    "hideHardwareSpecs": false,
    "memoryGiB": 192,
    "name": "ml.m5.12xlarge",
    "vcpuNum": 48
   },
   {
    "_defaultOrder": 10,
    "_isFastLaunch": false,
    "category": "General purpose",
    "gpuNum": 0,
    "hideHardwareSpecs": false,
    "memoryGiB": 256,
    "name": "ml.m5.16xlarge",
    "vcpuNum": 64
   },
   {
    "_defaultOrder": 11,
    "_isFastLaunch": false,
    "category": "General purpose",
    "gpuNum": 0,
    "hideHardwareSpecs": false,
    "memoryGiB": 384,
    "name": "ml.m5.24xlarge",
    "vcpuNum": 96
   },
   {
    "_defaultOrder": 12,
    "_isFastLaunch": false,
    "category": "General purpose",
    "gpuNum": 0,
    "hideHardwareSpecs": false,
    "memoryGiB": 8,
    "name": "ml.m5d.large",
    "vcpuNum": 2
   },
   {
    "_defaultOrder": 13,
    "_isFastLaunch": false,
    "category": "General purpose",
    "gpuNum": 0,
    "hideHardwareSpecs": false,
    "memoryGiB": 16,
    "name": "ml.m5d.xlarge",
    "vcpuNum": 4
   },
   {
    "_defaultOrder": 14,
    "_isFastLaunch": false,
    "category": "General purpose",
    "gpuNum": 0,
    "hideHardwareSpecs": false,
    "memoryGiB": 32,
    "name": "ml.m5d.2xlarge",
    "vcpuNum": 8
   },
   {
    "_defaultOrder": 15,
    "_isFastLaunch": false,
    "category": "General purpose",
    "gpuNum": 0,
    "hideHardwareSpecs": false,
    "memoryGiB": 64,
    "name": "ml.m5d.4xlarge",
    "vcpuNum": 16
   },
   {
    "_defaultOrder": 16,
    "_isFastLaunch": false,
    "category": "General purpose",
    "gpuNum": 0,
    "hideHardwareSpecs": false,
    "memoryGiB": 128,
    "name": "ml.m5d.8xlarge",
    "vcpuNum": 32
   },
   {
    "_defaultOrder": 17,
    "_isFastLaunch": false,
    "category": "General purpose",
    "gpuNum": 0,
    "hideHardwareSpecs": false,
    "memoryGiB": 192,
    "name": "ml.m5d.12xlarge",
    "vcpuNum": 48
   },
   {
    "_defaultOrder": 18,
    "_isFastLaunch": false,
    "category": "General purpose",
    "gpuNum": 0,
    "hideHardwareSpecs": false,
    "memoryGiB": 256,
    "name": "ml.m5d.16xlarge",
    "vcpuNum": 64
   },
   {
    "_defaultOrder": 19,
    "_isFastLaunch": false,
    "category": "General purpose",
    "gpuNum": 0,
    "hideHardwareSpecs": false,
    "memoryGiB": 384,
    "name": "ml.m5d.24xlarge",
    "vcpuNum": 96
   },
   {
    "_defaultOrder": 20,
    "_isFastLaunch": false,
    "category": "General purpose",
    "gpuNum": 0,
    "hideHardwareSpecs": true,
    "memoryGiB": 0,
    "name": "ml.geospatial.interactive",
    "supportedImageNames": [
     "sagemaker-geospatial-v1-0"
    ],
    "vcpuNum": 0
   },
   {
    "_defaultOrder": 21,
    "_isFastLaunch": true,
    "category": "Compute optimized",
    "gpuNum": 0,
    "hideHardwareSpecs": false,
    "memoryGiB": 4,
    "name": "ml.c5.large",
    "vcpuNum": 2
   },
   {
    "_defaultOrder": 22,
    "_isFastLaunch": false,
    "category": "Compute optimized",
    "gpuNum": 0,
    "hideHardwareSpecs": false,
    "memoryGiB": 8,
    "name": "ml.c5.xlarge",
    "vcpuNum": 4
   },
   {
    "_defaultOrder": 23,
    "_isFastLaunch": false,
    "category": "Compute optimized",
    "gpuNum": 0,
    "hideHardwareSpecs": false,
    "memoryGiB": 16,
    "name": "ml.c5.2xlarge",
    "vcpuNum": 8
   },
   {
    "_defaultOrder": 24,
    "_isFastLaunch": false,
    "category": "Compute optimized",
    "gpuNum": 0,
    "hideHardwareSpecs": false,
    "memoryGiB": 32,
    "name": "ml.c5.4xlarge",
    "vcpuNum": 16
   },
   {
    "_defaultOrder": 25,
    "_isFastLaunch": false,
    "category": "Compute optimized",
    "gpuNum": 0,
    "hideHardwareSpecs": false,
    "memoryGiB": 72,
    "name": "ml.c5.9xlarge",
    "vcpuNum": 36
   },
   {
    "_defaultOrder": 26,
    "_isFastLaunch": false,
    "category": "Compute optimized",
    "gpuNum": 0,
    "hideHardwareSpecs": false,
    "memoryGiB": 96,
    "name": "ml.c5.12xlarge",
    "vcpuNum": 48
   },
   {
    "_defaultOrder": 27,
    "_isFastLaunch": false,
    "category": "Compute optimized",
    "gpuNum": 0,
    "hideHardwareSpecs": false,
    "memoryGiB": 144,
    "name": "ml.c5.18xlarge",
    "vcpuNum": 72
   },
   {
    "_defaultOrder": 28,
    "_isFastLaunch": false,
    "category": "Compute optimized",
    "gpuNum": 0,
    "hideHardwareSpecs": false,
    "memoryGiB": 192,
    "name": "ml.c5.24xlarge",
    "vcpuNum": 96
   },
   {
    "_defaultOrder": 29,
    "_isFastLaunch": true,
    "category": "Accelerated computing",
    "gpuNum": 1,
    "hideHardwareSpecs": false,
    "memoryGiB": 16,
    "name": "ml.g4dn.xlarge",
    "vcpuNum": 4
   },
   {
    "_defaultOrder": 30,
    "_isFastLaunch": false,
    "category": "Accelerated computing",
    "gpuNum": 1,
    "hideHardwareSpecs": false,
    "memoryGiB": 32,
    "name": "ml.g4dn.2xlarge",
    "vcpuNum": 8
   },
   {
    "_defaultOrder": 31,
    "_isFastLaunch": false,
    "category": "Accelerated computing",
    "gpuNum": 1,
    "hideHardwareSpecs": false,
    "memoryGiB": 64,
    "name": "ml.g4dn.4xlarge",
    "vcpuNum": 16
   },
   {
    "_defaultOrder": 32,
    "_isFastLaunch": false,
    "category": "Accelerated computing",
    "gpuNum": 1,
    "hideHardwareSpecs": false,
    "memoryGiB": 128,
    "name": "ml.g4dn.8xlarge",
    "vcpuNum": 32
   },
   {
    "_defaultOrder": 33,
    "_isFastLaunch": false,
    "category": "Accelerated computing",
    "gpuNum": 4,
    "hideHardwareSpecs": false,
    "memoryGiB": 192,
    "name": "ml.g4dn.12xlarge",
    "vcpuNum": 48
   },
   {
    "_defaultOrder": 34,
    "_isFastLaunch": false,
    "category": "Accelerated computing",
    "gpuNum": 1,
    "hideHardwareSpecs": false,
    "memoryGiB": 256,
    "name": "ml.g4dn.16xlarge",
    "vcpuNum": 64
   },
   {
    "_defaultOrder": 35,
    "_isFastLaunch": false,
    "category": "Accelerated computing",
    "gpuNum": 1,
    "hideHardwareSpecs": false,
    "memoryGiB": 61,
    "name": "ml.p3.2xlarge",
    "vcpuNum": 8
   },
   {
    "_defaultOrder": 36,
    "_isFastLaunch": false,
    "category": "Accelerated computing",
    "gpuNum": 4,
    "hideHardwareSpecs": false,
    "memoryGiB": 244,
    "name": "ml.p3.8xlarge",
    "vcpuNum": 32
   },
   {
    "_defaultOrder": 37,
    "_isFastLaunch": false,
    "category": "Accelerated computing",
    "gpuNum": 8,
    "hideHardwareSpecs": false,
    "memoryGiB": 488,
    "name": "ml.p3.16xlarge",
    "vcpuNum": 64
   },
   {
    "_defaultOrder": 38,
    "_isFastLaunch": false,
    "category": "Accelerated computing",
    "gpuNum": 8,
    "hideHardwareSpecs": false,
    "memoryGiB": 768,
    "name": "ml.p3dn.24xlarge",
    "vcpuNum": 96
   },
   {
    "_defaultOrder": 39,
    "_isFastLaunch": false,
    "category": "Memory Optimized",
    "gpuNum": 0,
    "hideHardwareSpecs": false,
    "memoryGiB": 16,
    "name": "ml.r5.large",
    "vcpuNum": 2
   },
   {
    "_defaultOrder": 40,
    "_isFastLaunch": false,
    "category": "Memory Optimized",
    "gpuNum": 0,
    "hideHardwareSpecs": false,
    "memoryGiB": 32,
    "name": "ml.r5.xlarge",
    "vcpuNum": 4
   },
   {
    "_defaultOrder": 41,
    "_isFastLaunch": false,
    "category": "Memory Optimized",
    "gpuNum": 0,
    "hideHardwareSpecs": false,
    "memoryGiB": 64,
    "name": "ml.r5.2xlarge",
    "vcpuNum": 8
   },
   {
    "_defaultOrder": 42,
    "_isFastLaunch": false,
    "category": "Memory Optimized",
    "gpuNum": 0,
    "hideHardwareSpecs": false,
    "memoryGiB": 128,
    "name": "ml.r5.4xlarge",
    "vcpuNum": 16
   },
   {
    "_defaultOrder": 43,
    "_isFastLaunch": false,
    "category": "Memory Optimized",
    "gpuNum": 0,
    "hideHardwareSpecs": false,
    "memoryGiB": 256,
    "name": "ml.r5.8xlarge",
    "vcpuNum": 32
   },
   {
    "_defaultOrder": 44,
    "_isFastLaunch": false,
    "category": "Memory Optimized",
    "gpuNum": 0,
    "hideHardwareSpecs": false,
    "memoryGiB": 384,
    "name": "ml.r5.12xlarge",
    "vcpuNum": 48
   },
   {
    "_defaultOrder": 45,
    "_isFastLaunch": false,
    "category": "Memory Optimized",
    "gpuNum": 0,
    "hideHardwareSpecs": false,
    "memoryGiB": 512,
    "name": "ml.r5.16xlarge",
    "vcpuNum": 64
   },
   {
    "_defaultOrder": 46,
    "_isFastLaunch": false,
    "category": "Memory Optimized",
    "gpuNum": 0,
    "hideHardwareSpecs": false,
    "memoryGiB": 768,
    "name": "ml.r5.24xlarge",
    "vcpuNum": 96
   },
   {
    "_defaultOrder": 47,
    "_isFastLaunch": false,
    "category": "Accelerated computing",
    "gpuNum": 1,
    "hideHardwareSpecs": false,
    "memoryGiB": 16,
    "name": "ml.g5.xlarge",
    "vcpuNum": 4
   },
   {
    "_defaultOrder": 48,
    "_isFastLaunch": false,
    "category": "Accelerated computing",
    "gpuNum": 1,
    "hideHardwareSpecs": false,
    "memoryGiB": 32,
    "name": "ml.g5.2xlarge",
    "vcpuNum": 8
   },
   {
    "_defaultOrder": 49,
    "_isFastLaunch": false,
    "category": "Accelerated computing",
    "gpuNum": 1,
    "hideHardwareSpecs": false,
    "memoryGiB": 64,
    "name": "ml.g5.4xlarge",
    "vcpuNum": 16
   },
   {
    "_defaultOrder": 50,
    "_isFastLaunch": false,
    "category": "Accelerated computing",
    "gpuNum": 1,
    "hideHardwareSpecs": false,
    "memoryGiB": 128,
    "name": "ml.g5.8xlarge",
    "vcpuNum": 32
   },
   {
    "_defaultOrder": 51,
    "_isFastLaunch": false,
    "category": "Accelerated computing",
    "gpuNum": 1,
    "hideHardwareSpecs": false,
    "memoryGiB": 256,
    "name": "ml.g5.16xlarge",
    "vcpuNum": 64
   },
   {
    "_defaultOrder": 52,
    "_isFastLaunch": false,
    "category": "Accelerated computing",
    "gpuNum": 4,
    "hideHardwareSpecs": false,
    "memoryGiB": 192,
    "name": "ml.g5.12xlarge",
    "vcpuNum": 48
   },
   {
    "_defaultOrder": 53,
    "_isFastLaunch": false,
    "category": "Accelerated computing",
    "gpuNum": 4,
    "hideHardwareSpecs": false,
    "memoryGiB": 384,
    "name": "ml.g5.24xlarge",
    "vcpuNum": 96
   },
   {
    "_defaultOrder": 54,
    "_isFastLaunch": false,
    "category": "Accelerated computing",
    "gpuNum": 8,
    "hideHardwareSpecs": false,
    "memoryGiB": 768,
    "name": "ml.g5.48xlarge",
    "vcpuNum": 192
   },
   {
    "_defaultOrder": 55,
    "_isFastLaunch": false,
    "category": "Accelerated computing",
    "gpuNum": 8,
    "hideHardwareSpecs": false,
    "memoryGiB": 1152,
    "name": "ml.p4d.24xlarge",
    "vcpuNum": 96
   },
   {
    "_defaultOrder": 56,
    "_isFastLaunch": false,
    "category": "Accelerated computing",
    "gpuNum": 8,
    "hideHardwareSpecs": false,
    "memoryGiB": 1152,
    "name": "ml.p4de.24xlarge",
    "vcpuNum": 96
   },
   {
    "_defaultOrder": 57,
    "_isFastLaunch": false,
    "category": "Accelerated computing",
    "gpuNum": 0,
    "hideHardwareSpecs": false,
    "memoryGiB": 32,
    "name": "ml.trn1.2xlarge",
    "vcpuNum": 8
   },
   {
    "_defaultOrder": 58,
    "_isFastLaunch": false,
    "category": "Accelerated computing",
    "gpuNum": 0,
    "hideHardwareSpecs": false,
    "memoryGiB": 512,
    "name": "ml.trn1.32xlarge",
    "vcpuNum": 128
   },
   {
    "_defaultOrder": 59,
    "_isFastLaunch": false,
    "category": "Accelerated computing",
    "gpuNum": 0,
    "hideHardwareSpecs": false,
    "memoryGiB": 512,
    "name": "ml.trn1n.32xlarge",
    "vcpuNum": 128
   }
  ],
  "instance_type": "ml.g5.12xlarge",
  "kernelspec": {
   "display_name": "Python 3 (PyTorch 1.12 Python 3.8 GPU Optimized)",
   "language": "python",
   "name": "python3__SAGEMAKER_INTERNAL__arn:aws:sagemaker:us-east-1:081325390199:image/pytorch-1.12-gpu-py38"
  },
  "language_info": {
   "codemirror_mode": {
    "name": "ipython",
    "version": 3
   },
   "file_extension": ".py",
   "mimetype": "text/x-python",
   "name": "python",
   "nbconvert_exporter": "python",
   "pygments_lexer": "ipython3",
   "version": "3.8.16"
  }
 },
 "nbformat": 4,
 "nbformat_minor": 4
}
